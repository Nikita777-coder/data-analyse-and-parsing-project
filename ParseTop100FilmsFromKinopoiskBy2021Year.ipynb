{
 "cells": [
  {
   "cell_type": "markdown",
   "id": "2ccf5c48",
   "metadata": {},
   "source": [
    "# Исследовательский проект по НИС «Анализ данных в Python»"
   ]
  },
  {
   "cell_type": "markdown",
   "id": "188c0b8a",
   "metadata": {},
   "source": [
    "## 2 часть: сбор данных о топ 100 фильмах за 2021 год с сайта kinopoisk.ru, отсортированных по кол-ву оценок"
   ]
  },
  {
   "cell_type": "markdown",
   "id": "7ea60bb2",
   "metadata": {},
   "source": [
    "#### Ссылка на рейтинг фильмов: https://www.kinopoisk.ru/lists/navigator/2021/?quick_filters=films&tab=all"
   ]
  },
  {
   "cell_type": "markdown",
   "id": "7e05e5bb",
   "metadata": {},
   "source": [
    "#### 1. Импорт необходимых библиотек"
   ]
  },
  {
   "cell_type": "code",
   "execution_count": 1,
   "id": "8dc8f495",
   "metadata": {},
   "outputs": [],
   "source": [
    "import requests\n",
    "from bs4 import BeautifulSoup as bs\n",
    "import numpy as np \n",
    "import pandas as pd\n",
    "import time"
   ]
  },
  {
   "cell_type": "markdown",
   "id": "8d8979a6",
   "metadata": {},
   "source": [
    "#### 2. Разработка методов для функциональности кода"
   ]
  },
  {
   "cell_type": "markdown",
   "id": "e5b78071",
   "metadata": {},
   "source": [
    "2.1. Получение страницы в формате BeautifulSoup по её ссылке"
   ]
  },
  {
   "cell_type": "code",
   "execution_count": 2,
   "id": "d692d5bb",
   "metadata": {},
   "outputs": [],
   "source": [
    "def get_beautiful_soup_of_page(link_page):\n",
    "    page = requests.get(link_page)\n",
    "    if page.ok:\n",
    "        page.ecoding=\"utf-8\"\n",
    "        return bs(page.text, 'html.parser')"
   ]
  },
  {
   "cell_type": "markdown",
   "id": "59bd6f5e",
   "metadata": {},
   "source": [
    "2.2. Получение всех коротких ссылок на фильмы со страницы kinopoisk (на одной странице содержатся 50-53 ссылки на фильмы)"
   ]
  },
  {
   "cell_type": "code",
   "execution_count": 3,
   "id": "744c9f87",
   "metadata": {},
   "outputs": [],
   "source": [
    "def get_all_links_to_films_on_page(page_bs):\n",
    "    part = page_bs.html.body.find_all(\"a\")\n",
    "    links = []\n",
    "    for el in part:\n",
    "        # возможно исключение при извлечении \"href\" у атрибута \"a\"\n",
    "        try:\n",
    "            if el[\"href\"].split(\"/\")[1] == \"film\" and len(el[\"href\"].split(\"/\")) == 4:\n",
    "                links.append(el[\"href\"])\n",
    "        except: KeyError\n",
    "    return links"
   ]
  },
  {
   "cell_type": "markdown",
   "id": "13e3d4d8",
   "metadata": {},
   "source": [
    "#### 3. Загрузка страниц и их представление в формате BeautifulSoup"
   ]
  },
  {
   "cell_type": "code",
   "execution_count": 6,
   "id": "d747dd2a",
   "metadata": {},
   "outputs": [
    {
     "data": {
      "text/plain": [
       "<!DOCTYPE html>\n",
       "<html prefix=\"og: http://ogp.me/ns#\"><meta content=\"IE=edge\" http-equiv=\"X-UA-Compatible\"/><meta charset=\"utf-8\"/><meta content=\"width=device-width,initial-scale=1\" name=\"viewport\"/><title data-react-helmet=\"true\">ÐÐ¹!</title><meta content=\"Ð¯Ð½Ð´ÐµÐºÑ\" data-react-helmet=\"true\" property=\"og:title\"/><meta content=\"ÐÐ°Ð¹Ð´ÑÑÑÑ Ð²ÑÑ\" data-react-helmet=\"true\" property=\"og:description\"/><meta content=\"https://yastatic.net/s3/home/logos/share/share-logo-ru.png\" data-react-helmet=\"true\" property=\"og:image\"/><link href=\"/captcha_smart.min.css?k=1632998364813\" rel=\"stylesheet\"/><div id=\"root\"><div class=\"Theme Theme_color_yandex-default Theme_root_default\"><div class=\"Container\"><div class=\"Spacer\" style=\"padding-bottom:40px\"><a class=\"Link Link_view_default LogoLink\" href=\"https://www.yandex.ru\" title=\"Ð¯Ð½Ð´ÐµÐºÑ\"><svg height=\"36\" viewbox=\"0 0 86 36\" width=\"86\"><path d=\"M45.983 28.888H44.385L44.377 11.578H35.027V13.274C35.027 18.556 34.835 24.67 32.997 28.888H31.758V35.313H34.555V31.41H43.186V35.313H45.983V28.888ZM58.798 27.758C57.999 28.309 56.601 29.098 54.842 29.098C52.365 29.098 51.086 26.732 51.086 22.238H59.477V20.544C59.477 13.804 57.28 11.32 53.923 11.32C49.648 11.32 47.85 15.971 47.85 22.357C47.85 28.467 50.407 31.739 54.563 31.739C56.561 31.739 58.239 31.108 59.517 30.122L58.798 27.757V27.758ZM26.765 11.572V20.052H22.13V11.572H19.013V31.44H22.13V22.478H26.765V31.44H29.841V11.573H26.765V11.572ZM71.123 31.435H74.519L68.805 20.91L73.8 11.568H70.643L65.808 20.752V11.57H62.692V31.437H65.808V21.543L71.123 31.437V31.435ZM86.02 30.19L85.3 27.904C84.581 28.534 83.423 29.126 81.904 29.126C79.387 29.126 78.188 26.288 78.188 21.321C78.188 16.315 79.786 13.831 82.024 13.831C83.303 13.831 84.501 14.501 85.341 15.211L85.781 12.294C84.901 11.742 83.862 11.269 82.064 11.269C77.349 11.269 74.912 15.251 74.912 21.479C74.912 28.259 77.509 31.689 81.824 31.689C83.662 31.689 84.941 31.097 86.02 30.19ZM41.304 28.991H35.95C37.628 24.773 37.828 18.664 37.828 14.485V14.13H41.304V28.991ZM53.931 13.894C55.729 13.894 56.289 16.377 56.289 19.767H51.134C51.334 16.22 52.014 13.894 53.931 13.894Z\" fill=\"black\"></path><path d=\"M11.892 20.85V31.375H14.969V3.52698H10.374C5.85802 3.52698 2.06202 6.42198 2.06202 12.335C2.06202 16.553 3.74002 18.839 6.25802 20.1L0.903015 31.375H4.46002L9.33502 20.849H11.892V20.85ZM11.898 18.393H10.26C7.58302 18.393 5.38502 16.935 5.38502 12.402C5.38502 7.71098 7.78302 6.09498 10.26 6.09498H11.898V18.393Z\" fill=\"#FF0000\"></path></svg></a></div><div class=\"Spacer\" style=\"padding-bottom:16px\"><span class=\"Text Text_weight_medium Text_typography_headline-s\">ÐÐ¾Ð´ÑÐ²ÐµÑÐ´Ð¸ÑÐµ, ÑÑÐ¾ Ð·Ð°Ð¿ÑÐ¾ÑÑ Ð¾ÑÐ¿ÑÐ°Ð²Ð»ÑÐ»Ð¸ Ð²Ñ, Ð° Ð½Ðµ ÑÐ¾Ð±Ð¾Ñ</span></div><span class=\"Text Text_weight_regular Text_typography_body-long-m\">ÐÐ°Ð¼ Ð¾ÑÐµÐ½Ñ Ð¶Ð°Ð»Ñ, Ð½Ð¾ Ð·Ð°Ð¿ÑÐ¾ÑÑ Ñ Ð²Ð°ÑÐµÐ³Ð¾ ÑÑÑÑÐ¾Ð¹ÑÑÐ²Ð° Ð¿Ð¾Ñ\n",
       "Ð¾Ð¶Ð¸ Ð½Ð° Ð°Ð²ÑÐ¾Ð¼Ð°ÑÐ¸ÑÐµÑÐºÐ¸Ðµ.Â <a class=\"Link Link_view_default\" href=\"https://yandex.ru/support/smart-captcha\">ÐÐ¾ÑÐµÐ¼Ñ ÑÑÐ¾ Ð¼Ð¾Ð³Ð»Ð¾ Ð¿ÑÐ¾Ð¸Ð·Ð¾Ð¹ÑÐ¸?</a></span><div class=\"Spacer Spacer_auto-gap_bottom\" style=\"padding-top:40px;padding-bottom:40px\"><div class=\"CheckboxCaptcha\" data-testid=\"checkbox-captcha\"><form action=\"/checkcaptcha?key=44a5def6-e833dd1d-4a97e381-82551e9a_2%2F1647889036%2F88308d735d49f95e69945d98d75dfac8_433becca35237087f4eb09c84b6da1fe&amp;retpath=https%3A%2F%2Fwww.kinopoisk.ru%2Flists%2Fnavigator%2F2021%3Fquick_filters%3Dfilms%26tab%3Dall_bdf968b85680d21599ec7b2f1f55147f&amp;u=9ad28960-51b29631-9430ba41-c998f394\" class=\"CheckboxCaptcha-Form\" method=\"POST\"><div class=\"CheckboxCaptcha-Inner\"><div class=\"CheckboxCaptcha-Anchor\"><input class=\"CheckboxCaptcha-Button\" type=\"submit\"/><div aria-checked=\"false\" class=\"CheckboxCaptcha-Checkbox\"><svg class=\"SvgIcon\" fill=\"none\" height=\"24\" viewbox=\"0 0 24 25\" width=\"24\"><path d=\"M4 12.5L9.5 18.5L20 6.5\" stroke=\"#000\" stroke-linecap=\"round\" stroke-linejoin=\"round\" stroke-width=\"3\"></path></svg></div></div><div class=\"CheckboxCaptcha-Label\"><span class=\"Text Text_weight_regular Text_typography_control-xxl CheckboxCaptcha-LabelText\">Ð¯ Ð½Ðµ ÑÐ¾Ð±Ð¾Ñ</span><span class=\"Text Text_color_control-secondary Text_weight_regular Text_typography_control-l\">ÐÐ°Ð¶Ð¼Ð¸ÑÐµ, ÑÑÐ¾Ð±Ñ Ð¿ÑÐ¾Ð´Ð¾Ð»Ð¶Ð¸ÑÑ</span></div></div><input hidden=\"\" name=\"key\" value=\"44a5def6-e833dd1d-4a97e381-82551e9a_2/1647889036/88308d735d49f95e69945d98d75dfac8_433becca35237087f4eb09c84b6da1fe\"/><input hidden=\"\" name=\"rdata\"/><input hidden=\"\" name=\"d\" value=\"WUXFsU87KzY6ZXxtpiRxVFCGfgwDlQsP6Zbx/fuJj30=\"/><input hidden=\"\" name=\"k\" value=\"1_1647889036_7996253955721075375_aa6eb8a5d005ab1456397783a520f218\"/></form></div></div><span class=\"Text Text_color_ghost Text_weight_regular Text_typography_control-xs\">ÐÑÐ»Ð¸ Ñ Ð²Ð°Ñ Ð²Ð¾Ð·Ð½Ð¸ÐºÐ»Ð¸ Ð¿ÑÐ¾Ð±Ð»ÐµÐ¼Ñ, Ð¿Ð¾Ð¶Ð°Ð»ÑÐ¹ÑÑÐ°, Ð²Ð¾ÑÐ¿Ð¾Ð»ÑÐ·ÑÐ¹ÑÐµÑÑÂ <a class=\"Link Link_view_default\" href=\"https://yandex.ru/support/smart-captcha/#help\">ÑÐ¾ÑÐ¼Ð¾Ð¹ Ð¾Ð±ÑÐ°ÑÐ½Ð¾Ð¹ ÑÐ²ÑÐ·Ð¸</a></span></div></div></div><script>window.__SSR_DATA__={url:\"/ru/checkbox\",reqId:\"1647889036320741-13144106355972468068\",invalid:\"no\",formAction:\"/checkcaptcha?key=44a5def6-e833dd1d-4a97e381-82551e9a_2%2F1647889036%2F88308d735d49f95e69945d98d75dfac8_433becca35237087f4eb09c84b6da1fe&retpath=https%3A%2F%2Fwww.kinopoisk.ru%2Flists%2Fnavigator%2F2021%3Fquick_filters%3Dfilms%26tab%3Dall_bdf968b85680d21599ec7b2f1f55147f&u=9ad28960-51b29631-9430ba41-c998f394\",captchaKey:\"44a5def6-e833dd1d-4a97e381-82551e9a_2/1647889036/88308d735d49f95e69945d98d75dfac8_433becca35237087f4eb09c84b6da1fe\",imageSrc:\"\",voiceSrc:\"\",introSrc:\"\",aesKey:\"WUXFsU87KzY6ZXxtpiRxVFCGfgwDlQsP6Zbx/fuJj30=\",aesSign:\"1_1647889036_7996253955721075375_aa6eb8a5d005ab1456397783a520f218\"}</script><script crossorigin=\"\" src=\"/captcha_smart_error.min.js?k=1632998364813\"></script><script crossorigin=\"\" src=\"https://yastatic.net/react/16.8.4/react-with-dom-and-polyfills.min.js\"></script><script crossorigin=\"\" src=\"/captcha_smart.min.js?k=1632998364813\"></script><script>!function(e,t,n,a,c){e.ym=e.ym||function(){(e.ym.a=e.ym.a||[]).push(arguments)},e.ym.l=+new Date,a=t.createElement(n),c=t.getElementsByTagName(n)[0],a.async=1,a.src=\"https://mc.yandex.ru/metrika/tag.js\",c.parentNode.insertBefore(a,c)}(window,document,\"script\"),ym(10630330,\"init\",{clickmap:!0,trackLinks:!0,accurateTrackBounce:!0,webvisor:!0,ut:\"noindex\",params:{req_id:\"1647889036320741-13144106355972468068\"}})</script><noscript><div><img alt=\"\" src=\"https://mc.yandex.ru/watch/10630330?ut=noindex\" style=\"position:absolute;left:-9999px\"/></div></noscript><div><img alt=\"\" src=\"https://adfstat.yandex.ru/captcha?req_id=1647889036320741-13144106355972468068\" style=\"position:absolute;left:-9999px\"/></div></html>"
      ]
     },
     "execution_count": 6,
     "metadata": {},
     "output_type": "execute_result"
    }
   ],
   "source": [
    "page1 = get_beautiful_soup_of_page(\"https://www.kinopoisk.ru/lists/navigator/2021/?quick_filters=films&tab=all\")\n",
    "page2 = get_beautiful_soup_of_page(\"https://www.kinopoisk.ru/lists/navigator/2021/?page=2&quick_filters=films&tab=all\")\n",
    "page1"
   ]
  },
  {
   "cell_type": "markdown",
   "id": "0fecaa31",
   "metadata": {},
   "source": [
    "#### 4. Получение всех ссылок фильмов из заданной страницы"
   ]
  },
  {
   "cell_type": "code",
   "execution_count": 5,
   "id": "cda08981",
   "metadata": {},
   "outputs": [
    {
     "ename": "AttributeError",
     "evalue": "'NoneType' object has no attribute 'find_all'",
     "output_type": "error",
     "traceback": [
      "\u001b[1;31m---------------------------------------------------------------------------\u001b[0m",
      "\u001b[1;31mAttributeError\u001b[0m                            Traceback (most recent call last)",
      "\u001b[1;32m<ipython-input-5-6002aef5ef3b>\u001b[0m in \u001b[0;36m<module>\u001b[1;34m\u001b[0m\n\u001b[0;32m      1\u001b[0m \u001b[0mlinks\u001b[0m \u001b[1;33m=\u001b[0m \u001b[1;33m[\u001b[0m\u001b[1;33m]\u001b[0m\u001b[1;33m\u001b[0m\u001b[1;33m\u001b[0m\u001b[0m\n\u001b[0;32m      2\u001b[0m \u001b[0mlinks\u001b[0m\u001b[1;33m.\u001b[0m\u001b[0mappend\u001b[0m\u001b[1;33m(\u001b[0m\u001b[0mget_all_links_to_films_on_page\u001b[0m\u001b[1;33m(\u001b[0m\u001b[0mpage1\u001b[0m\u001b[1;33m)\u001b[0m\u001b[1;33m)\u001b[0m\u001b[1;33m\u001b[0m\u001b[1;33m\u001b[0m\u001b[0m\n\u001b[1;32m----> 3\u001b[1;33m \u001b[0mlinks\u001b[0m\u001b[1;33m.\u001b[0m\u001b[0mappend\u001b[0m\u001b[1;33m(\u001b[0m\u001b[0mget_all_links_to_films_on_page\u001b[0m\u001b[1;33m(\u001b[0m\u001b[0mpage2\u001b[0m\u001b[1;33m)\u001b[0m\u001b[1;33m)\u001b[0m\u001b[1;33m\u001b[0m\u001b[1;33m\u001b[0m\u001b[0m\n\u001b[0m\u001b[0;32m      4\u001b[0m \u001b[0mlinks\u001b[0m\u001b[1;33m\u001b[0m\u001b[1;33m\u001b[0m\u001b[0m\n",
      "\u001b[1;32m<ipython-input-3-5dbc4b1affe1>\u001b[0m in \u001b[0;36mget_all_links_to_films_on_page\u001b[1;34m(page_bs)\u001b[0m\n\u001b[0;32m      1\u001b[0m \u001b[1;32mdef\u001b[0m \u001b[0mget_all_links_to_films_on_page\u001b[0m\u001b[1;33m(\u001b[0m\u001b[0mpage_bs\u001b[0m\u001b[1;33m)\u001b[0m\u001b[1;33m:\u001b[0m\u001b[1;33m\u001b[0m\u001b[1;33m\u001b[0m\u001b[0m\n\u001b[1;32m----> 2\u001b[1;33m     \u001b[0mpart\u001b[0m \u001b[1;33m=\u001b[0m \u001b[0mpage_bs\u001b[0m\u001b[1;33m.\u001b[0m\u001b[0mhtml\u001b[0m\u001b[1;33m.\u001b[0m\u001b[0mbody\u001b[0m\u001b[1;33m.\u001b[0m\u001b[0mfind_all\u001b[0m\u001b[1;33m(\u001b[0m\u001b[1;34m\"a\"\u001b[0m\u001b[1;33m)\u001b[0m\u001b[1;33m\u001b[0m\u001b[1;33m\u001b[0m\u001b[0m\n\u001b[0m\u001b[0;32m      3\u001b[0m     \u001b[0mlinks\u001b[0m \u001b[1;33m=\u001b[0m \u001b[1;33m[\u001b[0m\u001b[1;33m]\u001b[0m\u001b[1;33m\u001b[0m\u001b[1;33m\u001b[0m\u001b[0m\n\u001b[0;32m      4\u001b[0m     \u001b[1;32mfor\u001b[0m \u001b[0mel\u001b[0m \u001b[1;32min\u001b[0m \u001b[0mpart\u001b[0m\u001b[1;33m:\u001b[0m\u001b[1;33m\u001b[0m\u001b[1;33m\u001b[0m\u001b[0m\n\u001b[0;32m      5\u001b[0m         \u001b[1;31m# возможно исключение при извлечении \"href\" у атрибута \"a\"\u001b[0m\u001b[1;33m\u001b[0m\u001b[1;33m\u001b[0m\u001b[1;33m\u001b[0m\u001b[0m\n",
      "\u001b[1;31mAttributeError\u001b[0m: 'NoneType' object has no attribute 'find_all'"
     ]
    }
   ],
   "source": [
    "links = []\n",
    "links.append(get_all_links_to_films_on_page(page1))\n",
    "links.append(get_all_links_to_films_on_page(page2))\n",
    "links"
   ]
  },
  {
   "cell_type": "markdown",
   "id": "a2fcd473",
   "metadata": {},
   "source": [
    "#### 5. Подсчёт кол-ва извлечённых ссылок на каждой странице"
   ]
  },
  {
   "cell_type": "code",
   "execution_count": null,
   "id": "9f312d70",
   "metadata": {},
   "outputs": [],
   "source": [
    "print(len(links[0]))\n",
    "len(links[1])"
   ]
  },
  {
   "cell_type": "markdown",
   "id": "dd967dc3",
   "metadata": {},
   "source": [
    "Если на второй странице будет 52 ссылки на фильмы, то нужно удалить 2 последние"
   ]
  },
  {
   "cell_type": "code",
   "execution_count": null,
   "id": "9ad7d5c8",
   "metadata": {},
   "outputs": [],
   "source": [
    "if (len(links[1]) > 50):\n",
    "    del links[1][-2:]\n",
    "len(links[1])"
   ]
  },
  {
   "cell_type": "markdown",
   "id": "8f0e0116",
   "metadata": {},
   "source": [
    "#### 6. Дополнение до корректных ссылок на фильмы"
   ]
  },
  {
   "cell_type": "code",
   "execution_count": null,
   "id": "064b4d1c",
   "metadata": {},
   "outputs": [],
   "source": [
    "for i in range(len(links)):\n",
    "    for j in range(len(links[i])):\n",
    "        links[i][j] = \"http://www.kinopoisk.ru\" + links[i][j]\n",
    "        \n",
    "links"
   ]
  },
  {
   "cell_type": "markdown",
   "id": "57c19eef",
   "metadata": {},
   "source": [
    "#### 7. Парсинг данных"
   ]
  },
  {
   "cell_type": "markdown",
   "id": "f05c6f97",
   "metadata": {},
   "source": [
    "7.1. Функция для упрощения читабельности и уменьшения объёма кода"
   ]
  },
  {
   "cell_type": "code",
   "execution_count": null,
   "id": "28851d35",
   "metadata": {},
   "outputs": [],
   "source": [
    "def repeat_code(column, el):\n",
    "    # Добавление нового ключа в словрь\n",
    "    if not(column in data):\n",
    "        data[column] = list()\n",
    "        \n",
    "    # Извлечение из колонок \"Бюджет\", \"Сборы в США\", \"Сборы в России\" денег в целочисленном формате\n",
    "    if (column in [\"Бюджет\", \"Сборы в США\", \"Сборы в России\"]):\n",
    "        data[column].append(int(''.join(get_a_text(el)[1:].split())))\n",
    "        \n",
    "    # Извлечение возрастного ограничения по MPAA\n",
    "    elif column == \"Рейтинг MPAA\":\n",
    "        data[column].append(get_a_text(el)[0])\n",
    "        \n",
    "    # Извлечение сборов в мире\n",
    "    elif column == \"Сборы в мире\":\n",
    "        \n",
    "        # Обработка ситуации, когда попадается некорректная дата (помимо числа, разделённого пробелами, со знаком $ \n",
    "        # присутствуют другие знаки)\n",
    "        if get_a_text(el)[0] == \"+\":\n",
    "            data[column].append(int(''.join(get_a_text(el).split(\"= $\")[1].split())))\n",
    "            \n",
    "        # Обработка корректной даты\n",
    "        else:\n",
    "            data[column].append(int(''.join(get_a_text(el)[1:].split())))\n",
    "            \n",
    "    # Дата из колонок \"Время\", \"Жанр\", \"Слоган\" извлекается оттуда же, откуда мы получаем информацию о колонке (из div)\n",
    "    elif column != \"Время\" and column != \"Жанр\" and column != \"Слоган\":\n",
    "        data[column].append(get_a_text(el))"
   ]
  },
  {
   "cell_type": "markdown",
   "id": "4fdb935a",
   "metadata": {},
   "source": [
    "7.2. Получение информации о каком-либо параметре фильма из атрибута \"a\""
   ]
  },
  {
   "cell_type": "code",
   "execution_count": null,
   "id": "8969d25e",
   "metadata": {},
   "outputs": [],
   "source": [
    "def get_a_text(el):\n",
    "    try: \n",
    "        return el.a.text\n",
    "    except:\n",
    "        return \"\""
   ]
  },
  {
   "cell_type": "markdown",
   "id": "1a20eb1a",
   "metadata": {},
   "source": [
    "7.3. Получение параметра фильма и некоторой информации для определённых параметров фильмов (\"Слоган\", \"Время\", \"Жанр\")"
   ]
  },
  {
   "cell_type": "code",
   "execution_count": null,
   "id": "fd40f216",
   "metadata": {},
   "outputs": [],
   "source": [
    "def get_column(el):\n",
    "    try: \n",
    "        return el.div.text\n",
    "    except:\n",
    "        return \"\""
   ]
  },
  {
   "cell_type": "markdown",
   "id": "9b61aa23",
   "metadata": {},
   "source": [
    "7.4. Извлечём из каждого фильма название, год производства, страну, жанры, режиссёра, продюссеров, операторов, композиторов, художников, монтажеров, бюджет, сборы в США, сборы в мире, сборы в России, премьеру в мире, возрастные ограничения, рейтинг по возрасту согласно МРАА, время в минутах"
   ]
  },
  {
   "cell_type": "code",
   "execution_count": null,
   "id": "5b36606a",
   "metadata": {},
   "outputs": [],
   "source": [
    "data = {}\n",
    "\n",
    "quantity_of_rows = 0\n",
    "\n",
    "for links_of_page in links:\n",
    "    for link in links_of_page:\n",
    "        page3 = get_beautiful_soup_of_page(link)\n",
    "        \n",
    "        # Получение всех div для дальнейшего поиска нужного div\n",
    "        divs = page3.html.body.find_all(\"div\")\n",
    "        \n",
    "        # Поиск нужного div\n",
    "        for el in divs:\n",
    "            # Возможно исключение так, как не у всех div есть data-test-id\n",
    "            try:\n",
    "                if el[\"data-test-id\"] == \"encyclopedic-table\":\n",
    "                    part5 = el\n",
    "            except: KeyError\n",
    "         \n",
    "        # Извлечение названия фильма \n",
    "        for el in page3.html.body.find_all(\"span\"):\n",
    "            try:\n",
    "                if el[\"data-tid\"] == \"75209b22\":\n",
    "                    if not(\"Название фильма\") in data:\n",
    "                        data[\"Название фильма\"] = list()\n",
    "                    data[\"Название фильма\"].append(el.text.split(\" (\")[0])\n",
    "            except:\n",
    "                continue\n",
    "        \n",
    "        # Получение потенциальных параметров фильма и информации о времени, слогане, жанрах фильма\n",
    "        info = part5.find_all(\"div\")\n",
    "        \n",
    "        # Информация о последней колонки нужна для того, чтобы задавать верные значения для параметров фильма\n",
    "        last_column = \"\"\n",
    "        \n",
    "        # Получение информации и фильме\n",
    "        for el in info:\n",
    "            column = get_column(el)\n",
    "            # отбор корректных параметров фильма\n",
    "            if column != \"\" and column != \"—\" and column != \"Зрители\":\n",
    "                if not(last_column in [\"Время\", \"Жанр\", \"Слоган\"]):\n",
    "                    repeat_code(column, el)\n",
    "                \n",
    "                # Извлечение информации об оставшихся параметров фильма\n",
    "                elif last_column == \"Время\":\n",
    "                    data[last_column].append(int(get_column(el).split()[0]))\n",
    "                elif last_column == \"Жанр\":\n",
    "                    data[last_column].append(get_column(el).split(\", \"))\n",
    "                elif last_column == \"Слоган\" and get_column(el) != \"Режиссер\":\n",
    "                    data[last_column].append(get_column(el))\n",
    "                else:\n",
    "                    repeat_code(column, el)\n",
    "\n",
    "                last_column = column\n",
    "        \n",
    "        # Подсчёт извлечённых фильмов. Если в одной из колонок окажется меньше информации, чем текущее кол-во строк, то словарь\n",
    "        # не преобразуется в DataFrame => не преобразуется в .xlsx файл  \n",
    "        quantity_of_rows += 1\n",
    "        \n",
    "        # Проверка корректности кол-ва строк в каждом столбце\n",
    "        for key in data.keys():\n",
    "            if len(data[key]) < quantity_of_rows:\n",
    "                data[key].append(np.NaN)\n",
    "        \n",
    "data"
   ]
  },
  {
   "cell_type": "markdown",
   "id": "69e34f51",
   "metadata": {},
   "source": [
    "#### 8. Удаление ненужных столбцов"
   ]
  },
  {
   "cell_type": "code",
   "execution_count": null,
   "id": "8d2aa46e",
   "metadata": {},
   "outputs": [],
   "source": [
    "del data[\"Маркетинг\"]\n",
    "data"
   ]
  },
  {
   "cell_type": "markdown",
   "id": "13f7a2f3",
   "metadata": {},
   "source": [
    "#### 9. Проверка корректности кол-ва элементов в каждом столбце (должно быть 100)"
   ]
  },
  {
   "cell_type": "code",
   "execution_count": null,
   "id": "fe1c070c",
   "metadata": {},
   "outputs": [],
   "source": [
    "for key in data.keys():\n",
    "    if len(data[key]) == 100:\n",
    "        print(\"yes\")\n",
    "    else:\n",
    "        print(\"no\")"
   ]
  },
  {
   "cell_type": "markdown",
   "id": "2a520a5f",
   "metadata": {},
   "source": [
    "#### 10. Преобразование получившегося словаря с данными в DataFrame"
   ]
  },
  {
   "cell_type": "code",
   "execution_count": null,
   "id": "f8eabba0",
   "metadata": {},
   "outputs": [],
   "source": [
    "date = pd.DataFrame.from_dict(data)\n",
    "date"
   ]
  },
  {
   "cell_type": "markdown",
   "id": "009cdd69",
   "metadata": {},
   "source": [
    "#### 11. Изменение имён некоторых целочисленных столбцов для понимания, о какой СИ идёт речь "
   ]
  },
  {
   "cell_type": "code",
   "execution_count": null,
   "id": "d59ad31d",
   "metadata": {},
   "outputs": [],
   "source": [
    "date = date.rename(columns={\"Бюджет\" : \"Бюджет в $\", \"Сборы в США\" : \"Сборы в США в $\", \"Сборы в мире\" : \"Сборы в мире в $\", \n",
    "                            \"Сборы в России\" : \"Сборы в России в $\", \"Время\" : \"Время в мин\"})\n",
    "date"
   ]
  },
  {
   "cell_type": "markdown",
   "id": "3a545084",
   "metadata": {},
   "source": [
    "#### 11. Конвертирование DataFrame в excel таблицу формата .xlsx"
   ]
  },
  {
   "cell_type": "code",
   "execution_count": null,
   "id": "4e07c967",
   "metadata": {},
   "outputs": [],
   "source": [
    "writer = pd.ExcelWriter('Top100FilmsFromKinopoiskBy2021Year.xlsx')\n",
    "date.to_excel(writer,'Sheet5')\n",
    "writer.save()"
   ]
  },
  {
   "cell_type": "markdown",
   "id": "9a1ac03e",
   "metadata": {},
   "source": [
    "#### 12. Проверка корректности получившегося датасета "
   ]
  },
  {
   "cell_type": "code",
   "execution_count": null,
   "id": "aeb0f2a6",
   "metadata": {},
   "outputs": [],
   "source": [
    "data = pd.read_excel(\"Top100FilmsFromKinopoiskBy2021Year.xlsx\")\n",
    "data"
   ]
  },
  {
   "cell_type": "code",
   "execution_count": null,
   "id": "9b52cb2f",
   "metadata": {},
   "outputs": [],
   "source": []
  }
 ],
 "metadata": {
  "kernelspec": {
   "display_name": "Python 3",
   "language": "python",
   "name": "python3"
  },
  "language_info": {
   "codemirror_mode": {
    "name": "ipython",
    "version": 3
   },
   "file_extension": ".py",
   "mimetype": "text/x-python",
   "name": "python",
   "nbconvert_exporter": "python",
   "pygments_lexer": "ipython3",
   "version": "3.8.8"
  }
 },
 "nbformat": 4,
 "nbformat_minor": 5
}
