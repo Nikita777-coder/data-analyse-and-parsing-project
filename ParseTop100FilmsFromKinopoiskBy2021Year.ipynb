{
 "cells": [
  {
   "cell_type": "markdown",
   "id": "2ccf5c48",
   "metadata": {},
   "source": [
    "# Исследовательский проект по НИС «Анализ данных в Python»"
   ]
  },
  {
   "cell_type": "markdown",
   "id": "188c0b8a",
   "metadata": {},
   "source": [
    "## 2 часть: сбор данных о топ 100 фильмах за 2021 год с сайта kinopoisk.ru, отсортированных по кол-ву оценок"
   ]
  },
  {
   "cell_type": "markdown",
   "id": "7ea60bb2",
   "metadata": {},
   "source": [
    "#### Ссылка на рейтинг фильмов: https://www.kinopoisk.ru/lists/navigator/2021/?quick_filters=films&tab=all"
   ]
  },
  {
   "cell_type": "markdown",
   "id": "7e05e5bb",
   "metadata": {},
   "source": [
    "#### 1. Импорт необходимых библиотек"
   ]
  },
  {
   "cell_type": "code",
   "execution_count": 1,
   "id": "8dc8f495",
   "metadata": {},
   "outputs": [],
   "source": [
    "import requests\n",
    "from bs4 import BeautifulSoup as bs\n",
    "import numpy as np \n",
    "import pandas as pd\n",
    "import time"
   ]
  },
  {
   "cell_type": "markdown",
   "id": "8d8979a6",
   "metadata": {},
   "source": [
    "#### 2. Разработка методов для функциональности кода"
   ]
  },
  {
   "cell_type": "markdown",
   "id": "e5b78071",
   "metadata": {},
   "source": [
    "2.1. Получение страницы в формате BeautifulSoup по её ссылке"
   ]
  },
  {
   "cell_type": "code",
   "execution_count": 2,
   "id": "d692d5bb",
   "metadata": {},
   "outputs": [],
   "source": [
    "def get_beautiful_soup_of_page(link_page):\n",
    "    page = requests.get(link_page)\n",
    "    if page.ok:\n",
    "        page.ecoding=\"utf-8\"\n",
    "        return bs(page.text, 'html.parser')"
   ]
  },
  {
   "cell_type": "markdown",
   "id": "59bd6f5e",
   "metadata": {},
   "source": [
    "2.2. Получение всех коротких ссылок на фильмы со страницы kinopoisk (на одной странице содержатся 50-53 ссылки на фильмы)"
   ]
  },
  {
   "cell_type": "code",
   "execution_count": 3,
   "id": "744c9f87",
   "metadata": {},
   "outputs": [],
   "source": [
    "def get_all_links_to_films_on_page(page_bs):\n",
    "    part = page_bs.html.body.find_all(\"a\")\n",
    "    links = []\n",
    "    for el in part:\n",
    "        # возможно исключение при извлечении \"href\" у атрибута \"a\"\n",
    "        try:\n",
    "            if el[\"href\"].split(\"/\")[1] == \"film\" and len(el[\"href\"].split(\"/\")) == 4:\n",
    "                links.append(el[\"href\"])\n",
    "        except: KeyError\n",
    "    return links"
   ]
  },
  {
   "cell_type": "markdown",
   "id": "13e3d4d8",
   "metadata": {},
   "source": [
    "#### 3. Загрузка страниц и их представление в формате BeautifulSoup"
   ]
  },
  {
   "cell_type": "code",
   "execution_count": 16,
   "id": "d747dd2a",
   "metadata": {},
   "outputs": [
    {
     "data": {
      "text/plain": [
       "bs4.BeautifulSoup"
      ]
     },
     "execution_count": 16,
     "metadata": {},
     "output_type": "execute_result"
    }
   ],
   "source": [
    "page1 = get_beautiful_soup_of_page(\"https://www.kinopoisk.ru/lists/navigator/2021/?quick_filters=films&tab=all\")\n",
    "page2 = get_beautiful_soup_of_page(\"https://www.kinopoisk.ru/lists/navigator/2021/?page=2&quick_filters=films&tab=all\")"
   ]
  },
  {
   "cell_type": "markdown",
   "id": "0fecaa31",
   "metadata": {},
   "source": [
    "#### 4. Получение всех ссылок фильмов из заданной страницы"
   ]
  },
  {
   "cell_type": "code",
   "execution_count": 5,
   "id": "cda08981",
   "metadata": {},
   "outputs": [
    {
     "data": {
      "text/plain": [
       "[['/film/1318972/',\n",
       "  '/film/1318972/',\n",
       "  '/film/409424/',\n",
       "  '/film/409424/',\n",
       "  '/film/1387021/',\n",
       "  '/film/1387021/',\n",
       "  '/film/1199100/',\n",
       "  '/film/1199100/',\n",
       "  '/film/804662/',\n",
       "  '/film/804662/',\n",
       "  '/film/1109271/',\n",
       "  '/film/1109271/',\n",
       "  '/film/1219149/',\n",
       "  '/film/1219149/',\n",
       "  '/film/1227967/',\n",
       "  '/film/1227967/',\n",
       "  '/film/1355139/',\n",
       "  '/film/1355139/',\n",
       "  '/film/1015471/',\n",
       "  '/film/1015471/',\n",
       "  '/film/1309596/',\n",
       "  '/film/1309596/',\n",
       "  '/film/1445143/',\n",
       "  '/film/1445143/',\n",
       "  '/film/1008477/',\n",
       "  '/film/1008477/',\n",
       "  '/film/1309570/',\n",
       "  '/film/1309570/',\n",
       "  '/film/4419497/',\n",
       "  '/film/4419497/',\n",
       "  '/film/823956/',\n",
       "  '/film/823956/',\n",
       "  '/film/1045583/',\n",
       "  '/film/1045583/',\n",
       "  '/film/1322324/',\n",
       "  '/film/1322324/',\n",
       "  '/film/462059/',\n",
       "  '/film/462059/',\n",
       "  '/film/1379090/',\n",
       "  '/film/1379090/',\n",
       "  '/film/4317395/',\n",
       "  '/film/4317395/',\n",
       "  '/film/1009142/',\n",
       "  '/film/1009142/',\n",
       "  '/film/1338480/',\n",
       "  '/film/1338480/',\n",
       "  '/film/964318/',\n",
       "  '/film/964318/',\n",
       "  '/film/1272246/',\n",
       "  '/film/1272246/',\n",
       "  '/film/468562/',\n",
       "  '/film/468562/',\n",
       "  '/film/1449368/',\n",
       "  '/film/1449368/',\n",
       "  '/film/1395801/',\n",
       "  '/film/1395801/',\n",
       "  '/film/1238476/',\n",
       "  '/film/1238476/',\n",
       "  '/film/8062/',\n",
       "  '/film/8062/',\n",
       "  '/film/1395461/',\n",
       "  '/film/1395461/',\n",
       "  '/film/1405968/',\n",
       "  '/film/1405968/',\n",
       "  '/film/1045449/',\n",
       "  '/film/1045449/',\n",
       "  '/film/1198811/',\n",
       "  '/film/1198811/',\n",
       "  '/film/1304482/',\n",
       "  '/film/1304482/',\n",
       "  '/film/4518766/',\n",
       "  '/film/4518766/',\n",
       "  '/film/4446084/',\n",
       "  '/film/4446084/',\n",
       "  '/film/968501/',\n",
       "  '/film/968501/',\n",
       "  '/film/1243139/',\n",
       "  '/film/1243139/',\n",
       "  '/film/1282222/',\n",
       "  '/film/1282222/',\n",
       "  '/film/1294123/',\n",
       "  '/film/1294123/',\n",
       "  '/film/634786/',\n",
       "  '/film/634786/',\n",
       "  '/film/1274271/',\n",
       "  '/film/1274271/',\n",
       "  '/film/1115099/',\n",
       "  '/film/1115099/',\n",
       "  '/film/965936/',\n",
       "  '/film/965936/',\n",
       "  '/film/4418992/',\n",
       "  '/film/4418992/',\n",
       "  '/film/1236583/',\n",
       "  '/film/1236583/',\n",
       "  '/film/1301880/',\n",
       "  '/film/1301880/',\n",
       "  '/film/775278/',\n",
       "  '/film/775278/',\n",
       "  '/film/1405926/',\n",
       "  '/film/1405926/'],\n",
       " ['/film/1305913/',\n",
       "  '/film/1305913/',\n",
       "  '/film/897725/',\n",
       "  '/film/897725/',\n",
       "  '/film/1405778/',\n",
       "  '/film/1405778/',\n",
       "  '/film/823616/',\n",
       "  '/film/823616/',\n",
       "  '/film/4772436/',\n",
       "  '/film/4772436/',\n",
       "  '/film/4742878/',\n",
       "  '/film/4742878/',\n",
       "  '/film/1346514/',\n",
       "  '/film/1346514/',\n",
       "  '/film/1289738/',\n",
       "  '/film/1289738/',\n",
       "  '/film/811078/',\n",
       "  '/film/811078/',\n",
       "  '/film/1406473/',\n",
       "  '/film/1406473/',\n",
       "  '/film/1283945/',\n",
       "  '/film/1283945/',\n",
       "  '/film/841747/',\n",
       "  '/film/841747/',\n",
       "  '/film/4450231/',\n",
       "  '/film/4450231/',\n",
       "  '/film/893508/',\n",
       "  '/film/893508/',\n",
       "  '/film/1189865/',\n",
       "  '/film/1189865/',\n",
       "  '/film/1290289/',\n",
       "  '/film/1290289/',\n",
       "  '/film/1045056/',\n",
       "  '/film/1045056/',\n",
       "  '/film/1255291/',\n",
       "  '/film/1255291/',\n",
       "  '/film/4449009/',\n",
       "  '/film/4449009/',\n",
       "  '/film/1125892/',\n",
       "  '/film/1125892/',\n",
       "  '/film/1289692/',\n",
       "  '/film/1289692/',\n",
       "  '/film/1236433/',\n",
       "  '/film/1236433/',\n",
       "  '/film/1163904/',\n",
       "  '/film/1163904/',\n",
       "  '/film/1309482/',\n",
       "  '/film/1309482/',\n",
       "  '/film/1344821/',\n",
       "  '/film/1344821/',\n",
       "  '/film/1346857/',\n",
       "  '/film/1346857/',\n",
       "  '/film/1249213/',\n",
       "  '/film/1249213/',\n",
       "  '/film/4476940/',\n",
       "  '/film/4476940/',\n",
       "  '/film/4557207/',\n",
       "  '/film/4557207/',\n",
       "  '/film/1291197/',\n",
       "  '/film/1291197/',\n",
       "  '/film/1272469/',\n",
       "  '/film/1272469/',\n",
       "  '/film/4761862/',\n",
       "  '/film/4761862/',\n",
       "  '/film/1421591/',\n",
       "  '/film/1421591/',\n",
       "  '/film/1436464/',\n",
       "  '/film/1436464/',\n",
       "  '/film/4491514/',\n",
       "  '/film/4491514/',\n",
       "  '/film/2043233/',\n",
       "  '/film/2043233/',\n",
       "  '/film/1029388/',\n",
       "  '/film/1029388/',\n",
       "  '/film/1262095/',\n",
       "  '/film/1262095/',\n",
       "  '/film/4450232/',\n",
       "  '/film/4450232/',\n",
       "  '/film/1046638/',\n",
       "  '/film/1046638/',\n",
       "  '/film/1354105/',\n",
       "  '/film/1354105/',\n",
       "  '/film/428683/',\n",
       "  '/film/428683/',\n",
       "  '/film/4517052/',\n",
       "  '/film/4517052/',\n",
       "  '/film/1243567/',\n",
       "  '/film/1243567/',\n",
       "  '/film/1249233/',\n",
       "  '/film/1249233/',\n",
       "  '/film/4293245/',\n",
       "  '/film/4293245/',\n",
       "  '/film/708187/',\n",
       "  '/film/708187/',\n",
       "  '/film/1440548/',\n",
       "  '/film/1440548/',\n",
       "  '/film/1297211/',\n",
       "  '/film/1297211/',\n",
       "  '/film/1320623/',\n",
       "  '/film/1320623/']]"
      ]
     },
     "execution_count": 5,
     "metadata": {},
     "output_type": "execute_result"
    }
   ],
   "source": [
    "links = []\n",
    "links.append(get_all_links_to_films_on_page(page1))\n",
    "links.append(get_all_links_to_films_on_page(page2))"
   ]
  },
  {
   "cell_type": "markdown",
   "id": "a2fcd473",
   "metadata": {},
   "source": [
    "#### 5. Подсчёт кол-ва извлечённых ссылок на каждой странице"
   ]
  },
  {
   "cell_type": "code",
   "execution_count": 6,
   "id": "9f312d70",
   "metadata": {},
   "outputs": [
    {
     "name": "stdout",
     "output_type": "stream",
     "text": [
      "100\n"
     ]
    },
    {
     "data": {
      "text/plain": [
       "100"
      ]
     },
     "execution_count": 6,
     "metadata": {},
     "output_type": "execute_result"
    }
   ],
   "source": [
    "print(len(links[0]))\n",
    "len(links[1])"
   ]
  },
  {
   "cell_type": "markdown",
   "id": "dd967dc3",
   "metadata": {},
   "source": [
    "Если на второй странице будет 52 ссылки на фильмы, то нужно удалить 2 последние"
   ]
  },
  {
   "cell_type": "code",
   "execution_count": 7,
   "id": "9ad7d5c8",
   "metadata": {},
   "outputs": [
    {
     "data": {
      "text/plain": [
       "98"
      ]
     },
     "execution_count": 7,
     "metadata": {},
     "output_type": "execute_result"
    }
   ],
   "source": [
    "if (len(links[1]) > 50):\n",
    "    del links[1][-2:]\n",
    "len(links[1])"
   ]
  },
  {
   "cell_type": "markdown",
   "id": "8f0e0116",
   "metadata": {},
   "source": [
    "#### 6. Дополнение до корректных ссылок на фильмы"
   ]
  },
  {
   "cell_type": "code",
   "execution_count": 8,
   "id": "064b4d1c",
   "metadata": {},
   "outputs": [
    {
     "data": {
      "text/plain": [
       "[['http://www.kinopoisk.ru/film/1318972/',\n",
       "  'http://www.kinopoisk.ru/film/1318972/',\n",
       "  'http://www.kinopoisk.ru/film/409424/',\n",
       "  'http://www.kinopoisk.ru/film/409424/',\n",
       "  'http://www.kinopoisk.ru/film/1387021/',\n",
       "  'http://www.kinopoisk.ru/film/1387021/',\n",
       "  'http://www.kinopoisk.ru/film/1199100/',\n",
       "  'http://www.kinopoisk.ru/film/1199100/',\n",
       "  'http://www.kinopoisk.ru/film/804662/',\n",
       "  'http://www.kinopoisk.ru/film/804662/',\n",
       "  'http://www.kinopoisk.ru/film/1109271/',\n",
       "  'http://www.kinopoisk.ru/film/1109271/',\n",
       "  'http://www.kinopoisk.ru/film/1219149/',\n",
       "  'http://www.kinopoisk.ru/film/1219149/',\n",
       "  'http://www.kinopoisk.ru/film/1227967/',\n",
       "  'http://www.kinopoisk.ru/film/1227967/',\n",
       "  'http://www.kinopoisk.ru/film/1355139/',\n",
       "  'http://www.kinopoisk.ru/film/1355139/',\n",
       "  'http://www.kinopoisk.ru/film/1015471/',\n",
       "  'http://www.kinopoisk.ru/film/1015471/',\n",
       "  'http://www.kinopoisk.ru/film/1309596/',\n",
       "  'http://www.kinopoisk.ru/film/1309596/',\n",
       "  'http://www.kinopoisk.ru/film/1445143/',\n",
       "  'http://www.kinopoisk.ru/film/1445143/',\n",
       "  'http://www.kinopoisk.ru/film/1008477/',\n",
       "  'http://www.kinopoisk.ru/film/1008477/',\n",
       "  'http://www.kinopoisk.ru/film/1309570/',\n",
       "  'http://www.kinopoisk.ru/film/1309570/',\n",
       "  'http://www.kinopoisk.ru/film/4419497/',\n",
       "  'http://www.kinopoisk.ru/film/4419497/',\n",
       "  'http://www.kinopoisk.ru/film/823956/',\n",
       "  'http://www.kinopoisk.ru/film/823956/',\n",
       "  'http://www.kinopoisk.ru/film/1045583/',\n",
       "  'http://www.kinopoisk.ru/film/1045583/',\n",
       "  'http://www.kinopoisk.ru/film/1322324/',\n",
       "  'http://www.kinopoisk.ru/film/1322324/',\n",
       "  'http://www.kinopoisk.ru/film/462059/',\n",
       "  'http://www.kinopoisk.ru/film/462059/',\n",
       "  'http://www.kinopoisk.ru/film/1379090/',\n",
       "  'http://www.kinopoisk.ru/film/1379090/',\n",
       "  'http://www.kinopoisk.ru/film/4317395/',\n",
       "  'http://www.kinopoisk.ru/film/4317395/',\n",
       "  'http://www.kinopoisk.ru/film/1009142/',\n",
       "  'http://www.kinopoisk.ru/film/1009142/',\n",
       "  'http://www.kinopoisk.ru/film/1338480/',\n",
       "  'http://www.kinopoisk.ru/film/1338480/',\n",
       "  'http://www.kinopoisk.ru/film/964318/',\n",
       "  'http://www.kinopoisk.ru/film/964318/',\n",
       "  'http://www.kinopoisk.ru/film/1272246/',\n",
       "  'http://www.kinopoisk.ru/film/1272246/',\n",
       "  'http://www.kinopoisk.ru/film/468562/',\n",
       "  'http://www.kinopoisk.ru/film/468562/',\n",
       "  'http://www.kinopoisk.ru/film/1449368/',\n",
       "  'http://www.kinopoisk.ru/film/1449368/',\n",
       "  'http://www.kinopoisk.ru/film/1395801/',\n",
       "  'http://www.kinopoisk.ru/film/1395801/',\n",
       "  'http://www.kinopoisk.ru/film/1238476/',\n",
       "  'http://www.kinopoisk.ru/film/1238476/',\n",
       "  'http://www.kinopoisk.ru/film/8062/',\n",
       "  'http://www.kinopoisk.ru/film/8062/',\n",
       "  'http://www.kinopoisk.ru/film/1395461/',\n",
       "  'http://www.kinopoisk.ru/film/1395461/',\n",
       "  'http://www.kinopoisk.ru/film/1405968/',\n",
       "  'http://www.kinopoisk.ru/film/1405968/',\n",
       "  'http://www.kinopoisk.ru/film/1045449/',\n",
       "  'http://www.kinopoisk.ru/film/1045449/',\n",
       "  'http://www.kinopoisk.ru/film/1198811/',\n",
       "  'http://www.kinopoisk.ru/film/1198811/',\n",
       "  'http://www.kinopoisk.ru/film/1304482/',\n",
       "  'http://www.kinopoisk.ru/film/1304482/',\n",
       "  'http://www.kinopoisk.ru/film/4518766/',\n",
       "  'http://www.kinopoisk.ru/film/4518766/',\n",
       "  'http://www.kinopoisk.ru/film/4446084/',\n",
       "  'http://www.kinopoisk.ru/film/4446084/',\n",
       "  'http://www.kinopoisk.ru/film/968501/',\n",
       "  'http://www.kinopoisk.ru/film/968501/',\n",
       "  'http://www.kinopoisk.ru/film/1243139/',\n",
       "  'http://www.kinopoisk.ru/film/1243139/',\n",
       "  'http://www.kinopoisk.ru/film/1282222/',\n",
       "  'http://www.kinopoisk.ru/film/1282222/',\n",
       "  'http://www.kinopoisk.ru/film/1294123/',\n",
       "  'http://www.kinopoisk.ru/film/1294123/',\n",
       "  'http://www.kinopoisk.ru/film/634786/',\n",
       "  'http://www.kinopoisk.ru/film/634786/',\n",
       "  'http://www.kinopoisk.ru/film/1274271/',\n",
       "  'http://www.kinopoisk.ru/film/1274271/',\n",
       "  'http://www.kinopoisk.ru/film/1115099/',\n",
       "  'http://www.kinopoisk.ru/film/1115099/',\n",
       "  'http://www.kinopoisk.ru/film/965936/',\n",
       "  'http://www.kinopoisk.ru/film/965936/',\n",
       "  'http://www.kinopoisk.ru/film/4418992/',\n",
       "  'http://www.kinopoisk.ru/film/4418992/',\n",
       "  'http://www.kinopoisk.ru/film/1236583/',\n",
       "  'http://www.kinopoisk.ru/film/1236583/',\n",
       "  'http://www.kinopoisk.ru/film/1301880/',\n",
       "  'http://www.kinopoisk.ru/film/1301880/',\n",
       "  'http://www.kinopoisk.ru/film/775278/',\n",
       "  'http://www.kinopoisk.ru/film/775278/',\n",
       "  'http://www.kinopoisk.ru/film/1405926/',\n",
       "  'http://www.kinopoisk.ru/film/1405926/'],\n",
       " ['http://www.kinopoisk.ru/film/1305913/',\n",
       "  'http://www.kinopoisk.ru/film/1305913/',\n",
       "  'http://www.kinopoisk.ru/film/897725/',\n",
       "  'http://www.kinopoisk.ru/film/897725/',\n",
       "  'http://www.kinopoisk.ru/film/1405778/',\n",
       "  'http://www.kinopoisk.ru/film/1405778/',\n",
       "  'http://www.kinopoisk.ru/film/823616/',\n",
       "  'http://www.kinopoisk.ru/film/823616/',\n",
       "  'http://www.kinopoisk.ru/film/4772436/',\n",
       "  'http://www.kinopoisk.ru/film/4772436/',\n",
       "  'http://www.kinopoisk.ru/film/4742878/',\n",
       "  'http://www.kinopoisk.ru/film/4742878/',\n",
       "  'http://www.kinopoisk.ru/film/1346514/',\n",
       "  'http://www.kinopoisk.ru/film/1346514/',\n",
       "  'http://www.kinopoisk.ru/film/1289738/',\n",
       "  'http://www.kinopoisk.ru/film/1289738/',\n",
       "  'http://www.kinopoisk.ru/film/811078/',\n",
       "  'http://www.kinopoisk.ru/film/811078/',\n",
       "  'http://www.kinopoisk.ru/film/1406473/',\n",
       "  'http://www.kinopoisk.ru/film/1406473/',\n",
       "  'http://www.kinopoisk.ru/film/1283945/',\n",
       "  'http://www.kinopoisk.ru/film/1283945/',\n",
       "  'http://www.kinopoisk.ru/film/841747/',\n",
       "  'http://www.kinopoisk.ru/film/841747/',\n",
       "  'http://www.kinopoisk.ru/film/4450231/',\n",
       "  'http://www.kinopoisk.ru/film/4450231/',\n",
       "  'http://www.kinopoisk.ru/film/893508/',\n",
       "  'http://www.kinopoisk.ru/film/893508/',\n",
       "  'http://www.kinopoisk.ru/film/1189865/',\n",
       "  'http://www.kinopoisk.ru/film/1189865/',\n",
       "  'http://www.kinopoisk.ru/film/1290289/',\n",
       "  'http://www.kinopoisk.ru/film/1290289/',\n",
       "  'http://www.kinopoisk.ru/film/1045056/',\n",
       "  'http://www.kinopoisk.ru/film/1045056/',\n",
       "  'http://www.kinopoisk.ru/film/1255291/',\n",
       "  'http://www.kinopoisk.ru/film/1255291/',\n",
       "  'http://www.kinopoisk.ru/film/4449009/',\n",
       "  'http://www.kinopoisk.ru/film/4449009/',\n",
       "  'http://www.kinopoisk.ru/film/1125892/',\n",
       "  'http://www.kinopoisk.ru/film/1125892/',\n",
       "  'http://www.kinopoisk.ru/film/1289692/',\n",
       "  'http://www.kinopoisk.ru/film/1289692/',\n",
       "  'http://www.kinopoisk.ru/film/1236433/',\n",
       "  'http://www.kinopoisk.ru/film/1236433/',\n",
       "  'http://www.kinopoisk.ru/film/1163904/',\n",
       "  'http://www.kinopoisk.ru/film/1163904/',\n",
       "  'http://www.kinopoisk.ru/film/1309482/',\n",
       "  'http://www.kinopoisk.ru/film/1309482/',\n",
       "  'http://www.kinopoisk.ru/film/1344821/',\n",
       "  'http://www.kinopoisk.ru/film/1344821/',\n",
       "  'http://www.kinopoisk.ru/film/1346857/',\n",
       "  'http://www.kinopoisk.ru/film/1346857/',\n",
       "  'http://www.kinopoisk.ru/film/1249213/',\n",
       "  'http://www.kinopoisk.ru/film/1249213/',\n",
       "  'http://www.kinopoisk.ru/film/4476940/',\n",
       "  'http://www.kinopoisk.ru/film/4476940/',\n",
       "  'http://www.kinopoisk.ru/film/4557207/',\n",
       "  'http://www.kinopoisk.ru/film/4557207/',\n",
       "  'http://www.kinopoisk.ru/film/1291197/',\n",
       "  'http://www.kinopoisk.ru/film/1291197/',\n",
       "  'http://www.kinopoisk.ru/film/1272469/',\n",
       "  'http://www.kinopoisk.ru/film/1272469/',\n",
       "  'http://www.kinopoisk.ru/film/4761862/',\n",
       "  'http://www.kinopoisk.ru/film/4761862/',\n",
       "  'http://www.kinopoisk.ru/film/1421591/',\n",
       "  'http://www.kinopoisk.ru/film/1421591/',\n",
       "  'http://www.kinopoisk.ru/film/1436464/',\n",
       "  'http://www.kinopoisk.ru/film/1436464/',\n",
       "  'http://www.kinopoisk.ru/film/4491514/',\n",
       "  'http://www.kinopoisk.ru/film/4491514/',\n",
       "  'http://www.kinopoisk.ru/film/2043233/',\n",
       "  'http://www.kinopoisk.ru/film/2043233/',\n",
       "  'http://www.kinopoisk.ru/film/1029388/',\n",
       "  'http://www.kinopoisk.ru/film/1029388/',\n",
       "  'http://www.kinopoisk.ru/film/1262095/',\n",
       "  'http://www.kinopoisk.ru/film/1262095/',\n",
       "  'http://www.kinopoisk.ru/film/4450232/',\n",
       "  'http://www.kinopoisk.ru/film/4450232/',\n",
       "  'http://www.kinopoisk.ru/film/1046638/',\n",
       "  'http://www.kinopoisk.ru/film/1046638/',\n",
       "  'http://www.kinopoisk.ru/film/1354105/',\n",
       "  'http://www.kinopoisk.ru/film/1354105/',\n",
       "  'http://www.kinopoisk.ru/film/428683/',\n",
       "  'http://www.kinopoisk.ru/film/428683/',\n",
       "  'http://www.kinopoisk.ru/film/4517052/',\n",
       "  'http://www.kinopoisk.ru/film/4517052/',\n",
       "  'http://www.kinopoisk.ru/film/1243567/',\n",
       "  'http://www.kinopoisk.ru/film/1243567/',\n",
       "  'http://www.kinopoisk.ru/film/1249233/',\n",
       "  'http://www.kinopoisk.ru/film/1249233/',\n",
       "  'http://www.kinopoisk.ru/film/4293245/',\n",
       "  'http://www.kinopoisk.ru/film/4293245/',\n",
       "  'http://www.kinopoisk.ru/film/708187/',\n",
       "  'http://www.kinopoisk.ru/film/708187/',\n",
       "  'http://www.kinopoisk.ru/film/1440548/',\n",
       "  'http://www.kinopoisk.ru/film/1440548/',\n",
       "  'http://www.kinopoisk.ru/film/1297211/',\n",
       "  'http://www.kinopoisk.ru/film/1297211/']]"
      ]
     },
     "execution_count": 8,
     "metadata": {},
     "output_type": "execute_result"
    }
   ],
   "source": [
    "for i in range(len(links)):\n",
    "    for j in range(len(links[i])):\n",
    "        links[i][j] = \"http://www.kinopoisk.ru\" + links[i][j]\n",
    "        \n",
    "links"
   ]
  },
  {
   "cell_type": "markdown",
   "id": "57c19eef",
   "metadata": {},
   "source": [
    "#### 7. Парсинг данных"
   ]
  },
  {
   "cell_type": "markdown",
   "id": "f05c6f97",
   "metadata": {},
   "source": [
    "7.1. Функция для упрощения читабельности и уменьшения объёма кода"
   ]
  },
  {
   "cell_type": "code",
   "execution_count": 9,
   "id": "28851d35",
   "metadata": {},
   "outputs": [],
   "source": [
    "def repeat_code(column, el):\n",
    "    # Добавление нового ключа в словрь\n",
    "    if not(column in data):\n",
    "        data[column] = list()\n",
    "        \n",
    "    # Извлечение из колонок \"Бюджет\", \"Сборы в США\", \"Сборы в России\" денег в целочисленном формате\n",
    "    if (column in [\"Бюджет\", \"Сборы в США\", \"Сборы в России\"]):\n",
    "        data[column].append(int(''.join(get_a_text(el)[1:].split())))\n",
    "        \n",
    "    # Извлечение возрастного ограничения по MPAA\n",
    "    elif column == \"Рейтинг MPAA\":\n",
    "        data[column].append(get_a_text(el)[0])\n",
    "        \n",
    "    # Извлечение сборов в мире\n",
    "    elif column == \"Сборы в мире\":\n",
    "        \n",
    "        # Обработка ситуации, когда попадается некорректная дата (помимо числа, разделённого пробелами, со знаком $ \n",
    "        # присутствуют другие знаки)\n",
    "        if get_a_text(el)[0] == \"+\":\n",
    "            data[column].append(int(''.join(get_a_text(el).split(\"= $\")[1].split())))\n",
    "            \n",
    "        # Обработка корректной даты\n",
    "        else:\n",
    "            data[column].append(int(''.join(get_a_text(el)[1:].split())))\n",
    "            \n",
    "    # Дата из колонок \"Время\", \"Жанр\", \"Слоган\" извлекается оттуда же, откуда мы получаем информацию о колонке (из div)\n",
    "    elif column != \"Время\" and column != \"Жанр\" and column != \"Слоган\":\n",
    "        data[column].append(get_a_text(el))"
   ]
  },
  {
   "cell_type": "markdown",
   "id": "4fdb935a",
   "metadata": {},
   "source": [
    "7.2. Получение информации о каком-либо параметре фильма из атрибута \"a\""
   ]
  },
  {
   "cell_type": "code",
   "execution_count": 10,
   "id": "8969d25e",
   "metadata": {},
   "outputs": [],
   "source": [
    "def get_a_text(el):\n",
    "    try: \n",
    "        return el.a.text\n",
    "    except:\n",
    "        return \"\""
   ]
  },
  {
   "cell_type": "markdown",
   "id": "1a20eb1a",
   "metadata": {},
   "source": [
    "7.3. Получение параметра фильма и некоторой информации для определённых параметров фильмов (\"Слоган\", \"Время\", \"Жанр\")"
   ]
  },
  {
   "cell_type": "code",
   "execution_count": 11,
   "id": "fd40f216",
   "metadata": {},
   "outputs": [],
   "source": [
    "def get_column(el):\n",
    "    try: \n",
    "        return el.div.text\n",
    "    except:\n",
    "        return \"\""
   ]
  },
  {
   "cell_type": "markdown",
   "id": "9b61aa23",
   "metadata": {},
   "source": [
    "7.4. Извлечём из каждого фильма название, год производства, страну, жанры, режиссёра, продюссеров, операторов, композиторов, художников, монтажеров, бюджет, сборы в США, сборы в мире, сборы в России, премьеру в мире, возрастные ограничения, рейтинг по возрасту согласно МРАА, время в минутах"
   ]
  },
  {
   "cell_type": "code",
   "execution_count": 18,
   "id": "5b36606a",
   "metadata": {},
   "outputs": [
    {
     "name": "stdout",
     "output_type": "stream",
     "text": [
      "<!DOCTYPE html>\n",
      "<html prefix=\"og: http://ogp.me/ns#\"><meta content=\"IE=edge\" http-equiv=\"X-UA-Compatible\"/><meta charset=\"utf-8\"/><meta content=\"width=device-width,initial-scale=1\" name=\"viewport\"/><title data-react-helmet=\"true\">ÐÐ¹!</title><meta content=\"Ð¯Ð½Ð´ÐµÐºÑ\" data-react-helmet=\"true\" property=\"og:title\"/><meta content=\"ÐÐ°Ð¹Ð´ÑÑÑÑ Ð²ÑÑ\" data-react-helmet=\"true\" property=\"og:description\"/><meta content=\"https://yastatic.net/s3/home-static/_/37/37a02b5dc7a51abac55d8a5b6c865f0e.png\" data-react-helmet=\"true\" property=\"og:image\"/><link href=\"/captcha_smart.0bfc4d9561e7e6e94795.min.css?k=1666276736660\" rel=\"stylesheet\"/><style>@media only screen and (min-width:651px){body{background-image:url('https://captcha-backgrounds.s3.yandex.net/static/kinopoisk-background.jpg')}}.LogoLink{background-image:url('data:image/svg+xml;base64,PHN2ZyB4bWxucz0iaHR0cDovL3d3dy53My5vcmcvMjAwMC9zdmciIHdpZHRoPSIyMTYiIGhlaWdodD0iMzAiIHZpZXdCb3g9IjAgMCAyMTYgMzAiIGZpbGw9Im5vbmUiPgo8bWFzayBpZD0ibWFzazBfMl8yNSIgc3R5bGU9Im1hc2stdHlwZTphbHBoYSIgbWFza1VuaXRzPSJ1c2VyU3BhY2VPblVzZSIgeD0iMCIgeT0iMCIgd2lkdGg9IjIxNiIgaGVpZ2h0PSIzMCI+CjxwYXRoIGZpbGwtcnVsZT0iZXZlbm9kZCIgY2xpcC1ydWxlPSJldmVub2RkIiBkPSJNNzYuMzk4NyAxNUM3Ni4zOTg3IDYuNzU4MjUgODAuNDc5NiAwIDg3LjY5MjQgMEM5NC45MDUyIDAgOTguOTg2MSA2Ljc1ODI1IDk4Ljk4NjEgMTVDOTguOTg2MSAyMy4yNDE4IDk0LjkwNTIgMzAgODcuNjkyNCAzMEM4MC40Nzk2IDMwIDc2LjM5ODcgMjMuMjQxOCA3Ni4zOTg3IDE1Wk04Ny42OTI0IDI1LjM4NDZDODkuNzU1MyAyNS4zODQ2IDkxLjI3ODggMjEuNDY4NSA5MS4yNzg4IDE1QzkxLjI3ODggOC41MzE0OCA4OS43NTUzIDQuNjE1MzkgODcuNjkyNCA0LjYxNTM5Qzg1LjYyOTQgNC42MTUzOSA4NC4xMDYgOC41MzE0OCA4NC4xMDYgMTVDODQuMTA2IDIxLjQ2ODUgODUuNjI5NCAyNS4zODQ2IDg3LjY5MjQgMjUuMzg0NlpNMCAwLjU3NDUyNUg1Ljk3NDAyVjguNTI2NTZMMTEuNzAzMyAwLjU3NDUyNUgxOC44NzYxTDkuMzU1NjQgMTAuMjk5OEwyNy4xOTc4IDAuNTc0NTI1VjcuMzMyNzZMMTEuNTM4NSAxMy4xMDJMMjcuMTk3OCAxMS43ODMzVjE4LjIxMTlMMTEuNTM4NSAxNi44OTMyTDI3LjE5NzggMjIuNjYyNFYyOS40MjA3TDkuMzU1NjQgMTkuNjk1NEwxOC44NzYxIDI5LjQyMDdIMTEuNzAzM0w1Ljk3NDAyIDIxLjQ2ODZWMjkuNDIwN0gwVjAuNTc0NTI1Wk0zMC44MjQxIDAuNTc0NTI1SDM4LjA3NjlMMzYuOTIzIDE4LjYyNjVMNDQuNjcwMyAwLjU3NDUyNUg1MC42ODkzVjI5LjQyMDdINDMuNDM2NUw0NC41OTA0IDExLjM2ODdMMzYuODQzMSAyOS40MjA3SDMwLjgyNDFWMC41NzQ1MjVaTTYxLjQ4MzUgMC41NzQ1MjVINTQuMzEwN1YyOS40MjA3SDYxLjQ4MzVWMTYuMzk4N0g2Ni41MTM1VjI5LjQyMDdINzMuNjg2M1YwLjU3NDUyNUg2Ni41MTM1VjExLjUzODVINjEuNDgzNVYwLjU3NDUyNVpNMTIxLjA3NCAwLjU3NDUyNUgxMDEuNzAzSDEwMS42OThWMjkuNDI1NkgxMDguODcxVjUuNDM5NjVIMTEzLjkwMVYyOS40MjA3SDEyMS4wNzRWMC41NzQ1MjVaTTEyMy43OTEgMTVDMTIzLjc5MSA2Ljc1ODI1IDEyNy44NzIgMCAxMzUuMDg1IDBDMTQyLjI5OCAwIDE0Ni4zNzkgNi43NTgyNSAxNDYuMzc5IDE1QzE0Ni4zNzkgMjMuMjQxOCAxNDIuMjk4IDMwIDEzNS4wODUgMzBDMTI3Ljg3MiAzMCAxMjMuNzkxIDIzLjI0MTggMTIzLjc5MSAxNVpNMTM1LjA4IDI1LjM4NDZDMTM3LjE0MyAyNS4zODQ2IDEzOC42NjYgMjEuNDY4NSAxMzguNjY2IDE1QzEzOC42NjYgOC41MzE0OCAxMzcuMTQzIDQuNjE1MzkgMTM1LjA4IDQuNjE1MzlDMTMzLjAxNyA0LjYxNTM5IDEzMS40OTMgOC41MzE0OCAxMzEuNDkzIDE1QzEzMS40OTMgMjEuNDY4NSAxMzMuMDIyIDI1LjM4NDYgMTM1LjA4IDI1LjM4NDZaTTE1Ni4zNDMgMC41NzQ1MjVIMTQ5LjA5MVYyOS40MjA3SDE1NS4xMUwxNjIuODU3IDExLjM2ODdMMTYxLjcwMyAyOS40MjA3SDE2OC45NTZWMC41NzQ1MjVIMTYyLjkzN0wxNTUuMTkgMTguNjI2NUwxNTYuMzQzIDAuNTc0NTI1Wk0xODUuOTM0IDE5LjI0NThMMTkyLjc3NyAyMC4yMzQ4TDE5Mi41NzIgMjEuMjIzOEMxOTEuNDU5IDI2LjU4MzQgMTg4LjI4NyAzMCAxODIuNzIyIDMwQzE3NS41MSAzMCAxNzEuNjc4IDIzLjI0MTggMTcxLjY3OCAxNUMxNzEuNjc4IDYuNzU4MjUgMTc1LjUxIDAgMTgyLjcyMiAwQzE4OC4wODIgMCAxOTEuMjk0IDMuNDIxNTggMTkyLjQ4OCA4LjQ0NjU1TDE5Mi42OTIgOS4zMTA2OUwxODUuNjg0IDEwLjc5NDJDMTg1LjE5IDYuNzk4MjEgMTg0LjA3NiA0LjYxMDM5IDE4Mi43MTcgNC42MTAzOUMxODAuNTM1IDQuNjEwMzkgMTc5LjM4MSA5LjAyMDk4IDE3OS4zODEgMTQuOTk1QzE3OS4zODEgMjAuOTY5IDE4MC41MzUgMjUuMzc5NiAxODIuNzE3IDI1LjM3OTZDMTg0LjI0MSAyNS4zODQ2IDE4NS40NCAyMy4wMzcgMTg1LjkzNCAxOS4yNDU4Wk0yMDIuMzMzIDAuNTc0NTI1SDE5NS4wOFYyOS40MjA3SDIwMi4zMzNWMTcuNDI3N0wyMDYuOTg4IDI5LjQyMDdIMjE1LjAyNUwyMDYuOTQ4IDE0LjU0NTVMMjE0LjgyIDAuNTc0NTI1SDIwNy40MDNMMjAyLjMzMyAxMi41Njc1VjAuNTc0NTI1WiIgZmlsbD0iYmxhY2siLz4KPC9tYXNrPgo8ZyBtYXNrPSJ1cmwoI21hc2swXzJfMjUpIj4KPHJlY3QgeD0iLTE4LjQ3ODUiIHk9Ii0xNi45ODAyIiB3aWR0aD0iMjY3LjY4OCIgaGVpZ2h0PSI3MS45MTYxIiBmaWxsPSJ1cmwoI3BhaW50MF9yYWRpYWxfMl8yNSkiLz4KPC9nPgo8ZGVmcz4KPHJhZGlhbEdyYWRpZW50IGlkPSJwYWludDBfcmFkaWFsXzJfMjUiIGN4PSIwIiBjeT0iMCIgcj0iMSIgZ3JhZGllbnRVbml0cz0idXNlclNwYWNlT25Vc2UiIGdyYWRpZW50VHJhbnNmb3JtPSJ0cmFuc2xhdGUoLTIuNDEyMWUtMDUgMC40OTk0MTcpIHJvdGF0ZSgyLjc4MTAzKSBzY2FsZSgyOTguNTA0IDQzLjk4ODYpIj4KPHN0b3Agb2Zmc2V0PSIwLjQ4OTAyIiBzdG9wLWNvbG9yPSIjRkY1MzAwIi8+CjxzdG9wIG9mZnNldD0iMSIgc3RvcC1jb2xvcj0iI0JCRkYwMCIvPgo8L3JhZGlhbEdyYWRpZW50Pgo8L2RlZnM+Cjwvc3ZnPg==')}</style><div id=\"root\"><div class=\"Theme Theme_color_yandex-default Theme_root_default\"><div class=\"Container\"><div class=\"Spacer\" style=\"padding-bottom:40px\"><a class=\"Link Link_view_default LogoLink\" href=\"https://kinopoisk.ru\" target=\"_blank\" title=\"Kinopoisk\"></a></div><form action=\"/checkcaptcha?key=922a838a-3970114d-1b15fcb6-56e87aa4_2/1675195092/79aa27c69f6788149b9fcf4034f29032_e0359139c328d7472d6d1f9b9ab22278&amp;mt=1D158A2932088BA9F24604863130B5C7C1849CA055ED944283B29B545930DCEC1B73&amp;retpath=aHR0cDovL3d3dy5raW5vcG9pc2sucnUvZmlsbS8xMzE4OTcyPw%2C%2C_1d5e0ec54e530b691874b961e90f0260&amp;u=df162ee1-e5b8c845-a8d57f4e-46bf31d5&amp;s=d2489cd1b602a39330411a59af8f1c10\" method=\"POST\"><div class=\"Spacer\" style=\"padding-bottom:16px\"><span class=\"Text Text_weight_medium Text_typography_headline-s\">ÐÐ¾Ð´ÑÐ²ÐµÑÐ´Ð¸ÑÐµ, ÑÑÐ¾ Ð·Ð°Ð¿ÑÐ¾ÑÑ Ð¾ÑÐ¿ÑÐ°Ð²Ð»ÑÐ»Ð¸ Ð²Ñ, Ð° Ð½Ðµ ÑÐ¾Ð±Ð¾Ñ</span></div><span class=\"Text Text_weight_regular Text_typography_body-long-m\">ÐÐ°Ð¼ Ð¾ÑÐµÐ½Ñ Ð¶Ð°Ð»Ñ, Ð½Ð¾ Ð·Ð°Ð¿ÑÐ¾ÑÑ Ñ Ð²Ð°ÑÐµÐ³Ð¾ ÑÑÑÑÐ¾Ð¹ÑÑÐ²Ð° Ð¿Ð¾Ñ",
      "Ð¾Ð¶Ð¸ Ð½Ð° Ð°Ð²ÑÐ¾Ð¼Ð°ÑÐ¸ÑÐµÑÐºÐ¸Ðµ.Â <a class=\"Link Link_view_default\" href=\"https://yandex.ru/support/smart-captcha?unique_key=df162ee1-e5b8c845-a8d57f4e-46bf31d5\" target=\"_blank\">ÐÐ¾ÑÐµÐ¼Ñ ÑÑÐ¾ Ð¼Ð¾Ð³Ð»Ð¾ Ð¿ÑÐ¾Ð¸Ð·Ð¾Ð¹ÑÐ¸?</a></span><div class=\"Spacer Spacer_auto-gap_bottom\" style=\"padding-top:40px;padding-bottom:40px\"><div class=\"CheckboxCaptcha\" data-testid=\"checkbox-captcha\"><div class=\"CheckboxCaptcha-Inner\"><div class=\"CheckboxCaptcha-Anchor\"><input aria-checked=\"false\" aria-labelledby=\"smartcaptcha-status\" class=\"CheckboxCaptcha-Button\" role=\"checkbox\" type=\"submit\"/><div class=\"CheckboxCaptcha-Checkbox\" data-checked=\"false\"><svg class=\"SvgIcon\" fill=\"none\" height=\"24\" viewbox=\"0 0 24 25\" width=\"24\"><path d=\"M4 12.5L9.5 18.5L20 6.5\" stroke=\"#000\" stroke-linecap=\"round\" stroke-linejoin=\"round\" stroke-width=\"3\"></path></svg></div></div><div class=\"CheckboxCaptcha-Label\"><span class=\"Text Text_weight_regular Text_typography_control-xxl CheckboxCaptcha-LabelText\">Ð¯ Ð½Ðµ ÑÐ¾Ð±Ð¾Ñ</span><span class=\"Text Text_color_control-secondary Text_weight_regular Text_typography_control-l CheckboxCaptcha-SecondaryText\">ÐÐ°Ð¶Ð¼Ð¸ÑÐµ, ÑÑÐ¾Ð±Ñ Ð¿ÑÐ¾Ð´Ð¾Ð»Ð¶Ð¸ÑÑ</span><span class=\"Text Text_color_ghost Text_weight_regular Text_typography_control-s CheckboxCaptcha-Links\"><a aria-describedby=\"service-link-description\" class=\"Link Link_view_captcha\" href=\"https://cloud.yandex.ru/services/smartcaptcha\" target=\"_blank\">Yandex SmartCaptcha</a>â¢<a aria-describedby=\"connect-link-description\" class=\"Link Link_view_captcha\" href=\"https://yandex.ru/legal/smartcaptcha_notice/\" target=\"_blank\">ÐÐ±ÑÐ°Ð±Ð¾ÑÐºÐ° Ð´Ð°Ð½Ð½ÑÑ",
      "</a><div class=\"visuallyhidden\" id=\"service-link-description\">connect-link-description</div><div class=\"visuallyhidden\" id=\"privacy-link-description\">Ð¡Ð°Ð¹Ñ Ñ Ð¸Ð½ÑÐ¾ÑÐ¼Ð°ÑÐ¸ÐµÐ¹ Ð¾Ð± Ð¾Ð±ÑÐ°Ð±Ð¾ÑÐºÐµ Ð´Ð°Ð½Ð½ÑÑ",
      "</div></span></div><div class=\"CheckboxCaptcha-Icon\"><svg class=\"CloudIcon\" fill=\"none\" height=\"20\" viewbox=\"0 0 41 20\" width=\"41\"><path d=\"M10.251 11.0479C10.7785 12.2034 10.9542 12.6053 10.9542 13.9932V15.8333H9.07031V12.7309L5.51562 5H7.48142L10.251 11.0479ZM12.5746 5L10.2698 10.2376H12.1852L14.4963 5H12.5746Z\" fill=\"#000\"></path><path clip-rule=\"evenodd\" d=\"M10 18.2292C14.5448 18.2292 18.2292 14.5448 18.2292 10C18.2292 5.45516 14.5448 1.77083 10 1.77083C5.45516 1.77083 1.77083 5.45516 1.77083 10C1.77083 14.5448 5.45516 18.2292 10 18.2292ZM10 20C15.5228 20 20 15.5228 20 10C20 4.47715 15.5228 0 10 0C4.47715 0 0 4.47715 0 10C0 15.5228 4.47715 20 10 20Z\" fill=\"#000\" fill-rule=\"evenodd\"></path><path clip-rule=\"evenodd\" d=\"M39.2333 10C39.2333 14.55 35.55 18.2333 31 18.2333C29.8094 18.2333 28.9202 17.7864 28.4755 17.2443C28.0308 16.7022 27.9057 15.8152 28.0588 14.5339L30.7088 14.0082C33.13 13.5647 34.4641 12.2176 34.9417 9.80288C35.0001 9.46485 35.0669 9.12682 35.1301 8.8064C35.156 8.67525 35.1813 8.54705 35.2052 8.42301C35.2774 8.03104 35.3471 7.65855 35.411 7.31691C35.4783 6.95699 35.5392 6.63132 35.5899 6.3532C35.861 4.78329 35.6407 3.62423 35.0309 2.81788C37.5398 4.22801 39.2333 6.91477 39.2333 10ZM31 1.76667C26.45 1.76667 22.7667 5.45 22.7667 10C22.7667 13.0852 24.4602 15.772 26.9691 17.1821C26.3593 16.3758 26.139 15.2167 26.4101 13.6468C26.4684 13.3273 26.538 12.9507 26.6158 12.5305C26.67 12.2378 26.7281 11.9239 26.7889 11.5934C26.8128 11.4694 26.8381 11.3412 26.864 11.21C26.9273 10.8896 26.994 10.5516 27.0524 10.2136C27.5136 7.78235 28.8477 6.43534 31.2688 5.99181L33.9412 5.46614C34.0943 4.18484 33.9692 3.29778 33.5245 2.75569C33.0798 2.2136 32.1906 1.76667 31 1.76667ZM41 10C41 15.5167 36.5167 20 31 20C25.4833 20 21 15.5167 21 10C21 4.48333 25.4833 0 31 0C36.5167 0 41 4.48333 41 10ZM33.6241 7.30597L31.6147 7.70022C29.9018 8.02876 29.1112 8.81726 28.7818 10.5257C28.7052 10.9076 28.6385 11.2698 28.5741 11.6199C28.5554 11.7215 28.5368 11.8222 28.5183 11.922C28.4689 12.1848 28.4195 12.4476 28.3701 12.694L30.363 12.2998C32.0759 11.9712 32.883 11.1827 33.2124 9.47434C33.2848 9.11359 33.3515 8.75192 33.4182 8.39024C33.485 8.02852 33.5517 7.6668 33.6241 7.30597Z\" fill=\"#000\" fill-rule=\"evenodd\"></path></svg></div><div class=\"CheckboxCaptcha-Alert\"></div><div class=\"CheckboxCaptcha-Status visuallyhidden\" id=\"smartcaptcha-status\">SmartCaptcha Ð½ÑÐ¶Ð½Ð° Ð¿ÑÐ¾Ð²ÐµÑÐºÐ° Ð¿Ð¾Ð»ÑÐ·Ð¾Ð²Ð°ÑÐµÐ»Ñ</div></div></div></div><span class=\"Text Text_color_ghost Text_weight_regular Text_typography_control-xs\">ÐÑÐ»Ð¸ Ñ Ð²Ð°Ñ Ð²Ð¾Ð·Ð½Ð¸ÐºÐ»Ð¸ Ð¿ÑÐ¾Ð±Ð»ÐµÐ¼Ñ, Ð¿Ð¾Ð¶Ð°Ð»ÑÐ¹ÑÑÐ°, Ð²Ð¾ÑÐ¿Ð¾Ð»ÑÐ·ÑÐ¹ÑÐµÑÑÂ <a class=\"Link Link_view_default\" href=\"https://yandex.ru/support/smart-captcha?unique_key=df162ee1-e5b8c845-a8d57f4e-46bf31d5#help\" target=\"_blank\">ÑÐ¾ÑÐ¼Ð¾Ð¹ Ð¾Ð±ÑÐ°ÑÐ½Ð¾Ð¹ ÑÐ²ÑÐ·Ð¸</a></span><input name=\"rdata\" type=\"hidden\"/><input name=\"aesKey\" type=\"hidden\"/><input name=\"signKey\" type=\"hidden\"/></form></div></div></div> <script>window.__SSR_DATA__={url:\"/ru/checkbox\",reqId:\"\",uniqueKey:\"df162ee1-e5b8c845-a8d57f4e-46bf31d5\",invalid:\"no\",formAction:\"/checkcaptcha?key=922a838a-3970114d-1b15fcb6-56e87aa4_2/1675195092/79aa27c69f6788149b9fcf4034f29032_e0359139c328d7472d6d1f9b9ab22278&mt=1D158A2932088BA9F24604863130B5C7C1849CA055ED944283B29B545930DCEC1B73&retpath=aHR0cDovL3d3dy5raW5vcG9pc2sucnUvZmlsbS8xMzE4OTcyPw%2C%2C_1d5e0ec54e530b691874b961e90f0260&u=df162ee1-e5b8c845-a8d57f4e-46bf31d5&s=d2489cd1b602a39330411a59af8f1c10\",captchaKey:\"922a838a-3970114d-1b15fcb6-56e87aa4_2/1675195092/79aa27c69f6788149b9fcf4034f29032_e0359139c328d7472d6d1f9b9ab22278\",imageSrc:\"\",voiceSrc:\"\",introSrc:\"\",aesKey:\"otQM+FxfYZsBAcDW49lT1zlQIZy5FjoxvznX4g1u7dU=\",aesSign:\"1_1675195092_10480031108053930183_5a7db86de00cea8aa01246e3a7f92acf\"}</script><script crossorigin=\"\" src=\"/captcha_smart_error.0bfc4d9561e7e6e94795.min.js?k=1666276736660\"></script><script crossorigin=\"\" src=\"https://yastatic.net/react/16.8.4/react-with-dom-and-polyfills.min.js\"></script><script crossorigin=\"\" src=\"/captcha_smart.0bfc4d9561e7e6e94795.min.js?k=1666276736660\"></script><script>!function(e,n,t,a,c){e.ym=e.ym||function(){(e.ym.a=e.ym.a||[]).push(arguments)},e.ym.l=+new Date,a=n.createElement(t),c=n.getElementsByTagName(t)[0],a.async=1,a.src=\"https://mc.yandex.ru/metrika/tag.js\",c.parentNode.insertBefore(a,c)}(window,document,\"script\"),ym(10630330,\"init\",{clickmap:!0,trackLinks:!0,accurateTrackBounce:!0,webvisor:!0,ut:\"noindex\",params:{req_id:\"\",unique_key:\"df162ee1-e5b8c845-a8d57f4e-46bf31d5\"}})</script><noscript><div><img alt=\"\" src=\"https://mc.yandex.ru/watch/10630330?ut=noindex\" style=\"position:absolute;left:-9999px\"/></div></noscript><div><img alt=\"\" src=\"https://adfstat.yandex.ru/captcha?req_id=&amp;unique_key=df162ee1-e5b8c845-a8d57f4e-46bf31d5\" style=\"position:absolute;left:-9999px\"/></div></html>\n"
     ]
    },
    {
     "ename": "AttributeError",
     "evalue": "'NoneType' object has no attribute 'find_all'",
     "output_type": "error",
     "traceback": [
      "\u001b[0;31m---------------------------------------------------------------------------\u001b[0m",
      "\u001b[0;31mAttributeError\u001b[0m                            Traceback (most recent call last)",
      "Input \u001b[0;32mIn [18]\u001b[0m, in \u001b[0;36m<cell line: 5>\u001b[0;34m()\u001b[0m\n\u001b[1;32m      8\u001b[0m \u001b[38;5;28mprint\u001b[39m(page3)\n\u001b[1;32m     10\u001b[0m \u001b[38;5;66;03m# Получение всех div для дальнейшего поиска нужного div\u001b[39;00m\n\u001b[0;32m---> 11\u001b[0m divs \u001b[38;5;241m=\u001b[39m \u001b[43mpage3\u001b[49m\u001b[38;5;241;43m.\u001b[39;49m\u001b[43mhtml\u001b[49m\u001b[38;5;241;43m.\u001b[39;49m\u001b[43mbody\u001b[49m\u001b[38;5;241;43m.\u001b[39;49m\u001b[43mfind_all\u001b[49m(\u001b[38;5;124m\"\u001b[39m\u001b[38;5;124mdiv\u001b[39m\u001b[38;5;124m\"\u001b[39m)\n\u001b[1;32m     13\u001b[0m \u001b[38;5;66;03m# Поиск нужного div\u001b[39;00m\n\u001b[1;32m     14\u001b[0m \u001b[38;5;28;01mfor\u001b[39;00m el \u001b[38;5;129;01min\u001b[39;00m divs:\n\u001b[1;32m     15\u001b[0m     \u001b[38;5;66;03m# Возможно исключение так, как не у всех div есть data-test-id\u001b[39;00m\n",
      "\u001b[0;31mAttributeError\u001b[0m: 'NoneType' object has no attribute 'find_all'"
     ]
    }
   ],
   "source": [
    "data = {}\n",
    "\n",
    "quantity_of_rows = 0\n",
    "\n",
    "for links_of_page in links:\n",
    "    for link in links_of_page:\n",
    "        page3 = get_beautiful_soup_of_page(link)\n",
    "        print(page3)\n",
    "        \n",
    "        # Получение всех div для дальнейшего поиска нужного div\n",
    "        divs = page3.html.body.find_all(\"div\")\n",
    "        \n",
    "        # Поиск нужного div\n",
    "        for el in divs:\n",
    "            # Возможно исключение так, как не у всех div есть data-test-id\n",
    "            try:\n",
    "                if el[\"data-test-id\"] == \"encyclopedic-table\":\n",
    "                    part5 = el\n",
    "            except: KeyError\n",
    "         \n",
    "        # Извлечение названия фильма \n",
    "        for el in page3.html.body.find_all(\"span\"):\n",
    "            try:\n",
    "                if el[\"data-tid\"] == \"75209b22\":\n",
    "                    if not(\"Название фильма\") in data:\n",
    "                        data[\"Название фильма\"] = list()\n",
    "                    data[\"Название фильма\"].append(el.text.split(\" (\")[0])\n",
    "            except:\n",
    "                continue\n",
    "        \n",
    "        # Получение потенциальных параметров фильма и информации о времени, слогане, жанрах фильма\n",
    "        info = part5.find_all(\"div\")\n",
    "        \n",
    "        # Информация о последней колонки нужна для того, чтобы задавать верные значения для параметров фильма\n",
    "        last_column = \"\"\n",
    "        \n",
    "        # Получение информации и фильме\n",
    "        for el in info:\n",
    "            column = get_column(el)\n",
    "            # отбор корректных параметров фильма\n",
    "            if column != \"\" and column != \"—\" and column != \"Зрители\":\n",
    "                if not(last_column in [\"Время\", \"Жанр\", \"Слоган\"]):\n",
    "                    repeat_code(column, el)\n",
    "                \n",
    "                # Извлечение информации об оставшихся параметров фильма\n",
    "                elif last_column == \"Время\":\n",
    "                    data[last_column].append(int(get_column(el).split()[0]))\n",
    "                elif last_column == \"Жанр\":\n",
    "                    data[last_column].append(get_column(el).split(\", \"))\n",
    "                elif last_column == \"Слоган\" and get_column(el) != \"Режиссер\":\n",
    "                    data[last_column].append(get_column(el))\n",
    "                else:\n",
    "                    repeat_code(column, el)\n",
    "\n",
    "                last_column = column\n",
    "        \n",
    "        # Подсчёт извлечённых фильмов. Если в одной из колонок окажется меньше информации, чем текущее кол-во строк, то словарь\n",
    "        # не преобразуется в DataFrame => не преобразуется в .xlsx файл  \n",
    "        quantity_of_rows += 1\n",
    "        \n",
    "        # Проверка корректности кол-ва строк в каждом столбце\n",
    "        for key in data.keys():\n",
    "            if len(data[key]) < quantity_of_rows:\n",
    "                data[key].append(np.NaN)\n",
    "        \n",
    "data"
   ]
  },
  {
   "cell_type": "markdown",
   "id": "69e34f51",
   "metadata": {},
   "source": [
    "#### 8. Удаление ненужных столбцов"
   ]
  },
  {
   "cell_type": "code",
   "execution_count": null,
   "id": "8d2aa46e",
   "metadata": {},
   "outputs": [],
   "source": [
    "del data[\"Маркетинг\"]\n",
    "data"
   ]
  },
  {
   "cell_type": "markdown",
   "id": "13f7a2f3",
   "metadata": {},
   "source": [
    "#### 9. Проверка корректности кол-ва элементов в каждом столбце (должно быть 100)"
   ]
  },
  {
   "cell_type": "code",
   "execution_count": null,
   "id": "fe1c070c",
   "metadata": {},
   "outputs": [],
   "source": [
    "for key in data.keys():\n",
    "    if len(data[key]) == 100:\n",
    "        print(\"yes\")\n",
    "    else:\n",
    "        print(\"no\")"
   ]
  },
  {
   "cell_type": "markdown",
   "id": "2a520a5f",
   "metadata": {},
   "source": [
    "#### 10. Преобразование получившегося словаря с данными в DataFrame"
   ]
  },
  {
   "cell_type": "code",
   "execution_count": null,
   "id": "f8eabba0",
   "metadata": {},
   "outputs": [],
   "source": [
    "date = pd.DataFrame.from_dict(data)\n",
    "date"
   ]
  },
  {
   "cell_type": "markdown",
   "id": "009cdd69",
   "metadata": {},
   "source": [
    "#### 11. Изменение имён некоторых целочисленных столбцов для понимания, о какой СИ идёт речь "
   ]
  },
  {
   "cell_type": "code",
   "execution_count": null,
   "id": "d59ad31d",
   "metadata": {},
   "outputs": [],
   "source": [
    "date = date.rename(columns={\"Бюджет\" : \"Бюджет в $\", \"Сборы в США\" : \"Сборы в США в $\", \"Сборы в мире\" : \"Сборы в мире в $\", \n",
    "                            \"Сборы в России\" : \"Сборы в России в $\", \"Время\" : \"Время в мин\"})\n",
    "date"
   ]
  },
  {
   "cell_type": "markdown",
   "id": "3a545084",
   "metadata": {},
   "source": [
    "#### 11. Конвертирование DataFrame в excel таблицу формата .xlsx"
   ]
  },
  {
   "cell_type": "code",
   "execution_count": null,
   "id": "4e07c967",
   "metadata": {},
   "outputs": [],
   "source": [
    "writer = pd.ExcelWriter('Top100FilmsFromKinopoiskBy2021Year.xlsx')\n",
    "date.to_excel(writer,'Sheet5')\n",
    "writer.save()"
   ]
  },
  {
   "cell_type": "markdown",
   "id": "9a1ac03e",
   "metadata": {},
   "source": [
    "#### 12. Проверка корректности получившегося датасета "
   ]
  },
  {
   "cell_type": "code",
   "execution_count": null,
   "id": "aeb0f2a6",
   "metadata": {},
   "outputs": [],
   "source": [
    "data = pd.read_excel(\"Top100FilmsFromKinopoiskBy2021Year.xlsx\")\n",
    "data"
   ]
  }
 ],
 "metadata": {
  "kernelspec": {
   "display_name": "Python 3 (ipykernel)",
   "language": "python",
   "name": "python3"
  },
  "language_info": {
   "codemirror_mode": {
    "name": "ipython",
    "version": 3
   },
   "file_extension": ".py",
   "mimetype": "text/x-python",
   "name": "python",
   "nbconvert_exporter": "python",
   "pygments_lexer": "ipython3",
   "version": "3.9.12"
  }
 },
 "nbformat": 4,
 "nbformat_minor": 5
}
